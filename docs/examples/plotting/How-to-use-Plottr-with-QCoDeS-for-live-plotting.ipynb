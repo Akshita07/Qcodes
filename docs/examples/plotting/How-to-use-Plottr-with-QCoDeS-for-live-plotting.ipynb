{
 "cells": [
  {
   "cell_type": "markdown",
   "metadata": {},
   "source": [
    "# How to use Plottr with QCoDeS for live plotting?\n",
    "\n",
    "Note: This notebook assumes that the user has a `conda` environment on their system with latest versions of `plottr` installed. If you do not have plottr installed, please use command `pip install plottr` for installing it into your environment.\n",
    "\n",
    "Let's begin!\n",
    "\n",
    "First, make necessary imports."
   ]
  },
  {
   "cell_type": "code",
   "execution_count": 1,
   "metadata": {
    "ExecuteTime": {
     "end_time": "2020-12-03T16:55:34.169712Z",
     "start_time": "2020-12-03T16:55:31.105092Z"
    }
   },
   "outputs": [
    {
     "name": "stdout",
     "output_type": "stream",
     "text": [
      "Logging hadn't been started.\n",
      "Activating auto-logging. Current session state plus future input saved.\n",
      "Filename       : C:\\Users\\v-singak\\.qcodes\\logs\\command_history.log\n",
      "Mode           : append\n",
      "Output logging : True\n",
      "Raw input log  : False\n",
      "Timestamping   : True\n",
      "State          : active\n",
      "Qcodes Logfile : C:\\Users\\v-singak\\.qcodes\\logs\\201203-3532-qcodes.log\n",
      "Activating auto-logging. Current session state plus future input saved.\n",
      "Filename       : C:\\Users\\v-singak\\.qcodes\\logs\\command_history.log\n",
      "Mode           : append\n",
      "Output logging : True\n",
      "Raw input log  : False\n",
      "Timestamping   : True\n",
      "State          : active\n",
      "Qcodes Logfile : C:\\Users\\v-singak\\.qcodes\\logs\\201203-3532-qcodes.log\n"
     ]
    }
   ],
   "source": [
    "import os\n",
    "import numpy as np\n",
    "\n",
    "import qcodes as qc\n",
    "from qcodes import Station, initialise_or_create_database_at, \\\n",
    "    load_or_create_experiment, Measurement\n",
    "from qcodes.tests.instrument_mocks import DummyInstrument, \\\n",
    "    DummyInstrumentWithMeasurement\n",
    "\n",
    "qc.logger.start_all_logging()"
   ]
  },
  {
   "cell_type": "markdown",
   "metadata": {},
   "source": [
    "For this notebook, we create a mock station setup. "
   ]
  },
  {
   "cell_type": "code",
   "execution_count": 2,
   "metadata": {
    "ExecuteTime": {
     "end_time": "2020-12-03T16:58:16.814459Z",
     "start_time": "2020-12-03T16:58:16.802462Z"
    }
   },
   "outputs": [],
   "source": [
    "dac = DummyInstrument('dac', gates=['ch1', 'ch2'])\n",
    "dmm = DummyInstrumentWithMeasurement(name='dmm', setter_instr=dac)\n",
    "\n",
    "station = qc.Station(dmm, dac)"
   ]
  },
  {
   "cell_type": "markdown",
   "metadata": {},
   "source": [
    "After that, database needs to be initialized or created if it doesn't exist using `initialize_or_create_database` method. Furthermore, datasets are associated with experiments and by default the run is appended to the latest existing experiment. We can load or create an experiment using `load_or_create_experiment` function. "
   ]
  },
  {
   "cell_type": "code",
   "execution_count": 3,
   "metadata": {
    "ExecuteTime": {
     "end_time": "2020-12-03T17:20:12.074558Z",
     "start_time": "2020-12-03T17:20:12.046560Z"
    }
   },
   "outputs": [],
   "source": [
    "db_file_path = os.path.join(os.getcwd(), 'plottr_for_live_plotting_tutorial.db')\n",
    "initialise_or_create_database_at(db_file_path)\n",
    "exp = load_or_create_experiment(experiment_name='plottr_for_live_plotting_with_subsecond_refresh_rate',\n",
    "                          sample_name=\"no sample\")"
   ]
  },
  {
   "cell_type": "markdown",
   "metadata": {},
   "source": [
    "Now open an anaconda prompt and activate your conda environment where plottr is installed. Start Inspectr GUI with `plottr-inspectr` command. You will see a window as show below. In this window, set `Refresh interval (s)` to the desired value and check `Auto-plot new`. Using `File` button load the database initialized (or created) above.\n",
    "\n",
    "<div>\n",
    "<img src=\"files/plottr.jpg\" width=\"400\" height=\"400\"/>\n",
    "</div>\n",
    "\n",
    "Start the measurement as shown below. Notice `meas.write_period = 0.1` . This sets the measurement write period to 0.1s and is recommended to be used with sub-second refresh interval for plottr.\n",
    "\n",
    "<div>\n",
    "<img src=\"files/plottr_set_refresh_interval_and_autoplot.jpg\"/>\n",
    "</div>"
   ]
  },
  {
   "cell_type": "code",
   "execution_count": 4,
   "metadata": {
    "ExecuteTime": {
     "end_time": "2020-12-03T16:00:53.947203Z",
     "start_time": "2020-12-03T16:00:53.883203Z"
    }
   },
   "outputs": [
    {
     "name": "stdout",
     "output_type": "stream",
     "text": [
      "Starting experimental run with id: 1. \n"
     ]
    }
   ],
   "source": [
    "\n",
    "meas = Measurement(exp=exp)\n",
    "meas.register_parameter(dac.ch1)\n",
    "meas.register_parameter(dmm.v1, setpoints=(dac.ch1,))\n",
    "\n",
    "meas.write_period = 0.1\n",
    "\n",
    "\n",
    "with meas.run() as datasaver:\n",
    "\n",
    "    for set_v in np.linspace(0, 25, 10):\n",
    "        dac.ch1.set(set_v)\n",
    "        get_v = dmm.v1.get()\n",
    "        datasaver.add_result((dac.ch1, set_v),\n",
    "                             (dmm.v1, get_v))\n",
    "        \n",
    "    dataset = datasaver.dataset\n"
   ]
  },
  {
   "cell_type": "markdown",
   "metadata": {},
   "source": [
    "On starting this measurement, a plot window (as shown below) will open automatically. This plot will keep refreshing at the interval rate set by you till the measurement runs.\n",
    "\n",
    "<div>\n",
    "<img src=\"files/plotWindow.jpg\" width=\"500\" height=\"600\"/>\n",
    "</div>"
   ]
  },
  {
   "cell_type": "code",
   "execution_count": null,
   "metadata": {},
   "outputs": [],
   "source": []
  }
 ],
 "metadata": {
  "kernelspec": {
   "display_name": "Python 3",
   "language": "python",
   "name": "python3"
  },
  "language_info": {
   "codemirror_mode": {
    "name": "ipython",
    "version": 3
   },
   "file_extension": ".py",
   "mimetype": "text/x-python",
   "name": "python",
   "nbconvert_exporter": "python",
   "pygments_lexer": "ipython3",
   "version": "3.7.9"
  }
 },
 "nbformat": 4,
 "nbformat_minor": 4
}
